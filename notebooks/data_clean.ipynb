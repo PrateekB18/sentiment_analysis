{
 "cells": [
  {
   "cell_type": "code",
   "execution_count": 2,
   "metadata": {},
   "outputs": [],
   "source": [
    "import pandas as pd\n",
    "import numpy as np"
   ]
  },
  {
   "cell_type": "code",
   "execution_count": 2,
   "metadata": {},
   "outputs": [],
   "source": [
    "twitter_df = pd.read_csv(\"../data/raw/twitter_dataset.csv\", index_col=0) # 0: Negative; 1: Positive; 2: Neutral\n",
    "sentiment_mapping = {0: -1, 1: 1, 2: 0}\n",
    "twitter_df['sentiment'] = twitter_df['sentiment'].map(sentiment_mapping)\n",
    "twitter_df.columns = [\"Text\", \"Sentiment\"]\n",
    "yelp_df = pd.read_csv(\"../data/raw/yelp_train.csv\") # 0: Negative 1: Positive\n",
    "sentiment_mapping = {0: -1, 1: 1}\n",
    "yelp_df['label'] = yelp_df['label'].map(sentiment_mapping)\n",
    "yelp_df.columns = [\"Text\", \"Sentiment\"]\n",
    "df_amzn_fashion = pd.read_csv(\"../data/raw/fashion/13_17.csv\", index_col=0).drop(\"reviewTime\", axis=1)\n",
    "df_amzn_fashion.columns = [\"Sentiment\", \"Text\"]\n",
    "df_amzn_game = pd.read_csv(\"../data/raw/game/13_17.csv\", index_col=0).drop(\"reviewTime\", axis=1)\n",
    "df_amzn_game.columns = [\"Sentiment\", \"Text\"]\n",
    "df_amzn_soft = pd.read_csv(\"../data/raw/software/13_17.csv\", index_col=0).drop(\"reviewTime\", axis=1)\n",
    "df_amzn_soft.columns = [\"Sentiment\", \"Text\"]"
   ]
  },
  {
   "cell_type": "code",
   "execution_count": 3,
   "metadata": {},
   "outputs": [],
   "source": [
    "df = pd.concat([twitter_df, yelp_df, df_amzn_fashion, df_amzn_game, df_amzn_soft], ignore_index=True)"
   ]
  },
  {
   "cell_type": "code",
   "execution_count": 38,
   "metadata": {},
   "outputs": [],
   "source": [
    "randomised_df = df.sample(frac=1, random_state=42).reset_index(drop=True)"
   ]
  },
  {
   "cell_type": "code",
   "execution_count": 40,
   "metadata": {},
   "outputs": [],
   "source": [
    "randomised_df.to_csv(\"../data/processed/sentiment_dataset.csv\")"
   ]
  }
 ],
 "metadata": {
  "kernelspec": {
   "display_name": "Python 3",
   "language": "python",
   "name": "python3"
  },
  "language_info": {
   "codemirror_mode": {
    "name": "ipython",
    "version": 3
   },
   "file_extension": ".py",
   "mimetype": "text/x-python",
   "name": "python",
   "nbconvert_exporter": "python",
   "pygments_lexer": "ipython3",
   "version": "3.11.5"
  }
 },
 "nbformat": 4,
 "nbformat_minor": 2
}
